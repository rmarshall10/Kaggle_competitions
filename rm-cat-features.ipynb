{
 "cells": [
  {
   "cell_type": "markdown",
   "metadata": {},
   "source": [
    "Kaggle Categorical Feature Encoding Challenge II\n",
    "\n",
    "Data contains binary features, ordinal features, nominal features, and cyclical features."
   ]
  },
  {
   "cell_type": "code",
   "execution_count": 1,
   "metadata": {
    "_cell_guid": "b1076dfc-b9ad-4769-8c92-a6c4dae69d19",
    "_uuid": "8f2839f25d086af736a60e9eeb907d3b93b6e0e5"
   },
   "outputs": [],
   "source": [
    "import numpy as np # linear algebra\n",
    "import pandas as pd # data processing, CSV file I/O (e.g. pd.read_csv)\n",
    "import matplotlib.pyplot as plt\n",
    "import seaborn as sns\n"
   ]
  },
  {
   "cell_type": "code",
   "execution_count": 2,
   "metadata": {
    "_cell_guid": "79c7e3d0-c299-4dcb-8224-4455121ee9b0",
    "_uuid": "d629ff2d2480ee46fbb7e2d37f6b5fab8052498a"
   },
   "outputs": [
    {
     "name": "stdout",
     "output_type": "stream",
     "text": [
      "train shape:  (600000, 24)\n",
      "test shape:  (400000, 23)\n"
     ]
    }
   ],
   "source": [
    "#Load in the data\n",
    "\n",
    "train = pd.read_csv('../input/cat-in-the-dat-ii/train.csv', index_col='id')\n",
    "test = pd.read_csv('../input/cat-in-the-dat-ii/test.csv', index_col='id')\n",
    "submission = pd.read_csv('../input/cat-in-the-dat-ii/sample_submission.csv')\n",
    "print(\"train shape: \", train.shape)\n",
    "print(\"test shape: \", test.shape)"
   ]
  },
  {
   "cell_type": "code",
   "execution_count": 3,
   "metadata": {},
   "outputs": [
    {
     "data": {
      "text/html": [
       "<div>\n",
       "<style scoped>\n",
       "    .dataframe tbody tr th:only-of-type {\n",
       "        vertical-align: middle;\n",
       "    }\n",
       "\n",
       "    .dataframe tbody tr th {\n",
       "        vertical-align: top;\n",
       "    }\n",
       "\n",
       "    .dataframe thead th {\n",
       "        text-align: right;\n",
       "    }\n",
       "</style>\n",
       "<table border=\"1\" class=\"dataframe\">\n",
       "  <thead>\n",
       "    <tr style=\"text-align: right;\">\n",
       "      <th></th>\n",
       "      <th>bin_0</th>\n",
       "      <th>bin_1</th>\n",
       "      <th>bin_2</th>\n",
       "      <th>bin_3</th>\n",
       "      <th>bin_4</th>\n",
       "      <th>nom_0</th>\n",
       "      <th>nom_1</th>\n",
       "      <th>nom_2</th>\n",
       "      <th>nom_3</th>\n",
       "      <th>nom_4</th>\n",
       "      <th>...</th>\n",
       "      <th>nom_9</th>\n",
       "      <th>ord_0</th>\n",
       "      <th>ord_1</th>\n",
       "      <th>ord_2</th>\n",
       "      <th>ord_3</th>\n",
       "      <th>ord_4</th>\n",
       "      <th>ord_5</th>\n",
       "      <th>day</th>\n",
       "      <th>month</th>\n",
       "      <th>target</th>\n",
       "    </tr>\n",
       "    <tr>\n",
       "      <th>id</th>\n",
       "      <th></th>\n",
       "      <th></th>\n",
       "      <th></th>\n",
       "      <th></th>\n",
       "      <th></th>\n",
       "      <th></th>\n",
       "      <th></th>\n",
       "      <th></th>\n",
       "      <th></th>\n",
       "      <th></th>\n",
       "      <th></th>\n",
       "      <th></th>\n",
       "      <th></th>\n",
       "      <th></th>\n",
       "      <th></th>\n",
       "      <th></th>\n",
       "      <th></th>\n",
       "      <th></th>\n",
       "      <th></th>\n",
       "      <th></th>\n",
       "      <th></th>\n",
       "    </tr>\n",
       "  </thead>\n",
       "  <tbody>\n",
       "    <tr>\n",
       "      <th>0</th>\n",
       "      <td>0.0</td>\n",
       "      <td>0.0</td>\n",
       "      <td>0.0</td>\n",
       "      <td>F</td>\n",
       "      <td>N</td>\n",
       "      <td>Red</td>\n",
       "      <td>Trapezoid</td>\n",
       "      <td>Hamster</td>\n",
       "      <td>Russia</td>\n",
       "      <td>Bassoon</td>\n",
       "      <td>...</td>\n",
       "      <td>02e7c8990</td>\n",
       "      <td>3.0</td>\n",
       "      <td>Contributor</td>\n",
       "      <td>Hot</td>\n",
       "      <td>c</td>\n",
       "      <td>U</td>\n",
       "      <td>Pw</td>\n",
       "      <td>6.0</td>\n",
       "      <td>3.0</td>\n",
       "      <td>0</td>\n",
       "    </tr>\n",
       "    <tr>\n",
       "      <th>1</th>\n",
       "      <td>1.0</td>\n",
       "      <td>1.0</td>\n",
       "      <td>0.0</td>\n",
       "      <td>F</td>\n",
       "      <td>Y</td>\n",
       "      <td>Red</td>\n",
       "      <td>Star</td>\n",
       "      <td>Axolotl</td>\n",
       "      <td>NaN</td>\n",
       "      <td>Theremin</td>\n",
       "      <td>...</td>\n",
       "      <td>f37df64af</td>\n",
       "      <td>3.0</td>\n",
       "      <td>Grandmaster</td>\n",
       "      <td>Warm</td>\n",
       "      <td>e</td>\n",
       "      <td>X</td>\n",
       "      <td>pE</td>\n",
       "      <td>7.0</td>\n",
       "      <td>7.0</td>\n",
       "      <td>0</td>\n",
       "    </tr>\n",
       "    <tr>\n",
       "      <th>2</th>\n",
       "      <td>0.0</td>\n",
       "      <td>1.0</td>\n",
       "      <td>0.0</td>\n",
       "      <td>F</td>\n",
       "      <td>N</td>\n",
       "      <td>Red</td>\n",
       "      <td>NaN</td>\n",
       "      <td>Hamster</td>\n",
       "      <td>Canada</td>\n",
       "      <td>Bassoon</td>\n",
       "      <td>...</td>\n",
       "      <td>NaN</td>\n",
       "      <td>3.0</td>\n",
       "      <td>NaN</td>\n",
       "      <td>Freezing</td>\n",
       "      <td>n</td>\n",
       "      <td>P</td>\n",
       "      <td>eN</td>\n",
       "      <td>5.0</td>\n",
       "      <td>9.0</td>\n",
       "      <td>0</td>\n",
       "    </tr>\n",
       "    <tr>\n",
       "      <th>3</th>\n",
       "      <td>NaN</td>\n",
       "      <td>0.0</td>\n",
       "      <td>0.0</td>\n",
       "      <td>F</td>\n",
       "      <td>N</td>\n",
       "      <td>Red</td>\n",
       "      <td>Circle</td>\n",
       "      <td>Hamster</td>\n",
       "      <td>Finland</td>\n",
       "      <td>Theremin</td>\n",
       "      <td>...</td>\n",
       "      <td>f9d456e57</td>\n",
       "      <td>1.0</td>\n",
       "      <td>Novice</td>\n",
       "      <td>Lava Hot</td>\n",
       "      <td>a</td>\n",
       "      <td>C</td>\n",
       "      <td>NaN</td>\n",
       "      <td>3.0</td>\n",
       "      <td>3.0</td>\n",
       "      <td>0</td>\n",
       "    </tr>\n",
       "    <tr>\n",
       "      <th>4</th>\n",
       "      <td>0.0</td>\n",
       "      <td>NaN</td>\n",
       "      <td>0.0</td>\n",
       "      <td>T</td>\n",
       "      <td>N</td>\n",
       "      <td>Red</td>\n",
       "      <td>Triangle</td>\n",
       "      <td>Hamster</td>\n",
       "      <td>Costa Rica</td>\n",
       "      <td>NaN</td>\n",
       "      <td>...</td>\n",
       "      <td>c5361037c</td>\n",
       "      <td>3.0</td>\n",
       "      <td>Grandmaster</td>\n",
       "      <td>Cold</td>\n",
       "      <td>h</td>\n",
       "      <td>C</td>\n",
       "      <td>OZ</td>\n",
       "      <td>5.0</td>\n",
       "      <td>12.0</td>\n",
       "      <td>0</td>\n",
       "    </tr>\n",
       "  </tbody>\n",
       "</table>\n",
       "<p>5 rows × 24 columns</p>\n",
       "</div>"
      ],
      "text/plain": [
       "    bin_0  bin_1  bin_2 bin_3 bin_4 nom_0      nom_1    nom_2       nom_3  \\\n",
       "id                                                                          \n",
       "0     0.0    0.0    0.0     F     N   Red  Trapezoid  Hamster      Russia   \n",
       "1     1.0    1.0    0.0     F     Y   Red       Star  Axolotl         NaN   \n",
       "2     0.0    1.0    0.0     F     N   Red        NaN  Hamster      Canada   \n",
       "3     NaN    0.0    0.0     F     N   Red     Circle  Hamster     Finland   \n",
       "4     0.0    NaN    0.0     T     N   Red   Triangle  Hamster  Costa Rica   \n",
       "\n",
       "       nom_4  ...      nom_9 ord_0        ord_1     ord_2 ord_3  ord_4 ord_5  \\\n",
       "id            ...                                                              \n",
       "0    Bassoon  ...  02e7c8990   3.0  Contributor       Hot     c      U    Pw   \n",
       "1   Theremin  ...  f37df64af   3.0  Grandmaster      Warm     e      X    pE   \n",
       "2    Bassoon  ...        NaN   3.0          NaN  Freezing     n      P    eN   \n",
       "3   Theremin  ...  f9d456e57   1.0       Novice  Lava Hot     a      C   NaN   \n",
       "4        NaN  ...  c5361037c   3.0  Grandmaster      Cold     h      C    OZ   \n",
       "\n",
       "    day month target  \n",
       "id                    \n",
       "0   6.0   3.0      0  \n",
       "1   7.0   7.0      0  \n",
       "2   5.0   9.0      0  \n",
       "3   3.0   3.0      0  \n",
       "4   5.0  12.0      0  \n",
       "\n",
       "[5 rows x 24 columns]"
      ]
     },
     "execution_count": 3,
     "metadata": {},
     "output_type": "execute_result"
    }
   ],
   "source": [
    "train.head()"
   ]
  },
  {
   "cell_type": "code",
   "execution_count": 4,
   "metadata": {},
   "outputs": [],
   "source": [
    "#Create list of each type of feature\n",
    "\n",
    "bin_cols = ['bin_0', 'bin_1', 'bin_2', 'bin_3', 'bin_4']\n",
    "nom_cols = ['nom_0', 'nom_1', 'nom_2', 'nom_3', 'nom_4', 'nom_5', 'nom_6', 'nom_7', 'nom_8', 'nom_9']\n",
    "ord_cols = ['ord_0', 'ord_1', 'ord_2', 'ord_3', 'ord_4', 'ord_5']\n",
    "time_cols = ['day', 'month']"
   ]
  },
  {
   "cell_type": "code",
   "execution_count": 5,
   "metadata": {},
   "outputs": [],
   "source": [
    "train_missing = train.isnull().sum()\n",
    "test_missing = test.isnull().sum()"
   ]
  },
  {
   "cell_type": "code",
   "execution_count": 6,
   "metadata": {},
   "outputs": [
    {
     "data": {
      "text/plain": [
       "<matplotlib.axes._subplots.AxesSubplot at 0x7fa8ade10e48>"
      ]
     },
     "execution_count": 6,
     "metadata": {},
     "output_type": "execute_result"
    },
    {
     "data": {
      "image/png": "[encoded data removed]",
      "text/plain": [
       "<Figure size 864x864 with 4 Axes>"
      ]
     },
     "metadata": {
      "needs_background": "light"
     },
     "output_type": "display_data"
    }
   ],
   "source": [
    "#Let's take a look at the missing data\n",
    "\n",
    "fig, ax = plt.subplots (2, 2, figsize = (12,12))\n",
    "sns.barplot(x=train.columns, y = train_missing, ax=ax[0,0])\n",
    "sns.barplot(x=train.columns, y = train_missing/len(train), ax=ax[0,1])\n",
    "sns.barplot(x= test.columns ,  y = test_missing, ax=ax[1,0])\n",
    "sns.barplot(x = test.columns, y = test_missing/len(test), ax=ax[1,1])"
   ]
  },
  {
   "cell_type": "markdown",
   "metadata": {},
   "source": [
    "We have around 3% missing data in every column"
   ]
  },
  {
   "cell_type": "code",
   "execution_count": 7,
   "metadata": {},
   "outputs": [
    {
     "data": {
      "text/plain": [
       "<matplotlib.axes._subplots.AxesSubplot at 0x7fa8acf7fcf8>"
      ]
     },
     "execution_count": 7,
     "metadata": {},
     "output_type": "execute_result"
    },
    {
     "data": {
      "image/png": "[encoded data removed]",
      "text/plain": [
       "<Figure size 432x288 with 1 Axes>"
      ]
     },
     "metadata": {
      "needs_background": "light"
     },
     "output_type": "display_data"
    }
   ],
   "source": [
    "#Let's look at the distribution of the target\n",
    "sns.countplot(train['target'])"
   ]
  },
  {
   "cell_type": "markdown",
   "metadata": {},
   "source": [
    "The target is skewed, with around 80% having target 0."
   ]
  },
  {
   "cell_type": "code",
   "execution_count": 8,
   "metadata": {},
   "outputs": [
    {
     "data": {
      "image/png": "[encoded data removed]",
      "text/plain": [
       "<Figure size 1080x360 with 5 Axes>"
      ]
     },
     "metadata": {
      "needs_background": "light"
     },
     "output_type": "display_data"
    }
   ],
   "source": [
    "#Let's look at the binary features, and how they relate to target:\n",
    "\n",
    "fig, ax = plt.subplots(1,5, figsize=(15, 5))\n",
    "\n",
    "for i, col in enumerate(bin_cols):\n",
    "    sns.countplot(col, hue = 'target', data= train, ax=ax[i])\n",
    "plt.tight_layout()"
   ]
  },
  {
   "cell_type": "markdown",
   "metadata": {},
   "source": [
    "All binary features have skew to 0 over 1, but not all the same percentage."
   ]
  },
  {
   "cell_type": "code",
   "execution_count": 9,
   "metadata": {},
   "outputs": [
    {
     "data": {
      "image/png": "[encoded data removed]",
      "text/plain": [
       "<Figure size 1080x360 with 5 Axes>"
      ]
     },
     "metadata": {
      "needs_background": "light"
     },
     "output_type": "display_data"
    }
   ],
   "source": [
    "#And look at the binary features without splitting for target:\n",
    "\n",
    "fig, ax = plt.subplots(1,5, figsize=(15, 5))\n",
    "\n",
    "for i, col in enumerate(bin_cols):\n",
    "    sns.countplot(train[col], ax=ax[i])\n",
    "plt.tight_layout()"
   ]
  },
  {
   "cell_type": "code",
   "execution_count": 10,
   "metadata": {},
   "outputs": [
    {
     "data": {
      "text/plain": [
       "<matplotlib.axes._subplots.AxesSubplot at 0x7fa8a848e710>"
      ]
     },
     "execution_count": 10,
     "metadata": {},
     "output_type": "execute_result"
    },
    {
     "data": {
      "image/png": "[encoded data removed]",
      "text/plain": [
       "<Figure size 432x288 with 2 Axes>"
      ]
     },
     "metadata": {
      "needs_background": "light"
     },
     "output_type": "display_data"
    }
   ],
   "source": [
    "#Are any features correlated?\n",
    "\n",
    "sns.heatmap(train.corr())"
   ]
  },
  {
   "cell_type": "markdown",
   "metadata": {},
   "source": [
    "Small correlation between target and ord_0, as well as month. All other features have very low correlation."
   ]
  },
  {
   "cell_type": "code",
   "execution_count": 11,
   "metadata": {},
   "outputs": [
    {
     "name": "stdout",
     "output_type": "stream",
     "text": [
      "Red      323286\n",
      "Blue     205861\n",
      "Green     52601\n",
      "Name: nom_0, dtype: int64\n",
      "\n",
      "Triangle     164190\n",
      "Polygon      152563\n",
      "Trapezoid    119438\n",
      "Circle       104995\n",
      "Square        26503\n",
      "Star          14155\n",
      "Name: nom_1, dtype: int64\n",
      "\n",
      "Hamster    164897\n",
      "Axolotl    152319\n",
      "Lion       119504\n",
      "Dog        104825\n",
      "Cat         26276\n",
      "Snake       14144\n",
      "Name: nom_2, dtype: int64\n",
      "\n",
      "India         164869\n",
      "Costa Rica    151827\n",
      "Russia        119840\n",
      "Finland       104601\n",
      "Canada         26425\n",
      "China          14317\n",
      "Name: nom_3, dtype: int64\n",
      "\n",
      "Theremin    308621\n",
      "Bassoon     196639\n",
      "Oboe         49996\n",
      "Piano        26709\n",
      "Name: nom_4, dtype: int64\n",
      "\n",
      "fc8fc7e56    977\n",
      "360a16627    972\n",
      "423976253    961\n",
      "7917d446c    961\n",
      "879c2ed83    960\n",
      "            ... \n",
      "7335087fd      5\n",
      "30019ce8a      3\n",
      "d6bb2181a      1\n",
      "b3ad70fcb      1\n",
      "0385d0739      1\n",
      "Name: nom_5, Length: 1220, dtype: int64\n",
      "\n",
      "ea8c5e181    805\n",
      "9fa481341    798\n",
      "2b94ada45    792\n",
      "32e9bd1ff    788\n",
      "b88220966    781\n",
      "            ... \n",
      "f0732a795      4\n",
      "322548bed      3\n",
      "b4b8de4b9      2\n",
      "d6ea07c05      2\n",
      "3a121fefb      1\n",
      "Name: nom_6, Length: 1519, dtype: int64\n",
      "\n",
      "4ae48e857    5035\n",
      "c79d2197d    5031\n",
      "86ec768cd    4961\n",
      "a7059911d    4945\n",
      "41901460a    4934\n",
      "             ... \n",
      "b39008216     195\n",
      "1828818ab     182\n",
      "75d0e3ef8     157\n",
      "deec583dd      93\n",
      "e9c57c4aa      79\n",
      "Name: nom_7, Length: 222, dtype: int64\n",
      "\n",
      "7d7c02c57    5052\n",
      "15f03b1f4    4994\n",
      "5859a8a06    4989\n",
      "d7e75499d    4987\n",
      "158183c63    4966\n",
      "             ... \n",
      "8d31d1ab3     207\n",
      "4584d6fcd     174\n",
      "607c26084     149\n",
      "115d9fd8b     105\n",
      "6492aecc3      61\n",
      "Name: nom_8, Length: 222, dtype: int64\n",
      "\n",
      "8f3276a6e    565\n",
      "65b262989    564\n",
      "c5361037c    560\n",
      "9bc905a9d    558\n",
      "01a1a04c5    557\n",
      "            ... \n",
      "432e3fc6a      2\n",
      "3d19cd31d      2\n",
      "978258393      2\n",
      "d1e6704ed      1\n",
      "5f565a682      1\n",
      "Name: nom_9, Length: 2218, dtype: int64\n",
      "\n"
     ]
    }
   ],
   "source": [
    "#Let's look at all of the nominal features and their value counts:\n",
    "\n",
    "for col in nom_cols:\n",
    "    print(train[col].value_counts())\n",
    "    print('')"
   ]
  },
  {
   "cell_type": "markdown",
   "metadata": {},
   "source": [
    "We have some high cardinality nominal features. Instead of one hot encoding, we can make them ordinal by their percentage of target = 1. It will not be perfect because many have low number of examples."
   ]
  },
  {
   "cell_type": "code",
   "execution_count": 12,
   "metadata": {},
   "outputs": [
    {
     "data": {
      "image/png": "[encoded data removed]",
      "text/plain": [
       "<Figure size 1080x360 with 5 Axes>"
      ]
     },
     "metadata": {
      "needs_background": "light"
     },
     "output_type": "display_data"
    }
   ],
   "source": [
    "#Let's look at the nominal features and lower cardinality and how they split for target 0 or 1:\n",
    "\n",
    "fig, ax = plt.subplots(1,5, figsize=(15, 5))\n",
    "\n",
    "for i, col in enumerate(nom_cols[:5]):\n",
    "    sns.countplot(col, hue = 'target', data=train, ax=ax[i])\n",
    "plt.tight_layout()"
   ]
  },
  {
   "cell_type": "code",
   "execution_count": 13,
   "metadata": {},
   "outputs": [
    {
     "data": {
      "text/plain": [
       "(1000000, 23)"
      ]
     },
     "execution_count": 13,
     "metadata": {},
     "output_type": "execute_result"
    }
   ],
   "source": [
    "#combine train and test data to do pre-processing once together:\n",
    "\n",
    "data = pd.concat([train, test], sort=False).drop(columns='target')\n",
    "data.shape"
   ]
  },
  {
   "cell_type": "code",
   "execution_count": 14,
   "metadata": {},
   "outputs": [
    {
     "name": "stdout",
     "output_type": "stream",
     "text": [
      "3.0    0.315400\n",
      "2.0    0.229291\n",
      "1.0    0.165583\n",
      "Name: ord_0, dtype: float64\n",
      "\n",
      "Grandmaster    0.303218\n",
      "Master         0.268473\n",
      "Expert         0.234136\n",
      "Contributor    0.209149\n",
      "Novice         0.184868\n",
      "Name: ord_1, dtype: float64\n",
      "\n",
      "Lava Hot       0.409964\n",
      "Boiling Hot    0.322756\n",
      "Hot            0.258140\n",
      "Warm           0.212715\n",
      "Cold           0.179530\n",
      "Freezing       0.152410\n",
      "Name: ord_2, dtype: float64\n",
      "\n",
      "o    0.448452\n",
      "n    0.407228\n",
      "m    0.362376\n",
      "l    0.327869\n",
      "k    0.296217\n",
      "j    0.279536\n",
      "i    0.243890\n",
      "h    0.222617\n",
      "g    0.207503\n",
      "f    0.177906\n",
      "e    0.156755\n",
      "d    0.141654\n",
      "c    0.128063\n",
      "b    0.114692\n",
      "a    0.100718\n",
      "Name: ord_3, dtype: float64\n",
      "\n",
      "Z    0.327677\n",
      "Y    0.319641\n",
      "X    0.305051\n",
      "W    0.297959\n",
      "V    0.292967\n",
      "U    0.286899\n",
      "T    0.281882\n",
      "S    0.261669\n",
      "R    0.261645\n",
      "Q    0.254735\n",
      "P    0.251569\n",
      "O    0.239413\n",
      "N    0.230168\n",
      "M    0.226196\n",
      "L    0.225592\n",
      "J    0.212687\n",
      "K    0.211288\n",
      "I    0.198270\n",
      "H    0.193837\n",
      "G    0.192294\n",
      "F    0.185718\n",
      "E    0.176746\n",
      "D    0.169893\n",
      "C    0.161416\n",
      "A    0.158356\n",
      "B    0.157204\n",
      "Name: ord_4, dtype: float64\n",
      "\n",
      "ur    0.405286\n",
      "ze    0.398890\n",
      "uI    0.396825\n",
      "zp    0.394133\n",
      "xF    0.387324\n",
      "        ...   \n",
      "CN    0.128153\n",
      "Bx    0.127560\n",
      "CU    0.122017\n",
      "AG    0.121941\n",
      "BL    0.106363\n",
      "Name: ord_5, Length: 190, dtype: float64\n",
      "\n"
     ]
    }
   ],
   "source": [
    "#Look at the ratio of target 1:target 0 for the ordinal features:\n",
    "\n",
    "for col in ord_cols:\n",
    "    print((train[train['target']==1][col].value_counts()/train[train['target']==0][col].value_counts()).sort_values(ascending=False))\n",
    "    print('')"
   ]
  },
  {
   "cell_type": "markdown",
   "metadata": {},
   "source": [
    "Makes sence, order is intuitive, so let's map to integers:"
   ]
  },
  {
   "cell_type": "code",
   "execution_count": 15,
   "metadata": {},
   "outputs": [],
   "source": [
    "map_ord1 = {'Novice':0, \n",
    "            'Contributor':1, \n",
    "            'Expert':2, \n",
    "            'Master':3, \n",
    "            'Grandmaster':4}\n",
    "data['ord_1'] = data['ord_1'].map(map_ord1)\n",
    "\n",
    "map_ord2 = {'Freezing':0, \n",
    "            'Cold':1, \n",
    "            'Warm':2, \n",
    "            'Hot':3, \n",
    "            'Boiling Hot':4, \n",
    "            'Lava Hot':5}\n",
    "data['ord_2'] = data['ord_2'].map(map_ord2)"
   ]
  },
  {
   "cell_type": "code",
   "execution_count": 16,
   "metadata": {},
   "outputs": [],
   "source": [
    "#Can use ascii funciton\n",
    "\n",
    "def ord3(x):\n",
    "    return ord(x)-97\n",
    "data['ord_3'] = data['ord_3'].map(ord3, na_action='ignore')"
   ]
  },
  {
   "cell_type": "code",
   "execution_count": 17,
   "metadata": {},
   "outputs": [
    {
     "data": {
      "text/plain": [
       "13.0    118514\n",
       "0.0     108946\n",
       "12.0     96352\n",
       "2.0      94563\n",
       "7.0      92718\n",
       "14.0     75948\n",
       "1.0      74251\n",
       "4.0      64532\n",
       "10.0     64318\n",
       "8.0      58216\n",
       "3.0      51186\n",
       "5.0      49221\n",
       "6.0      10383\n",
       "9.0       6091\n",
       "11.0      4792\n",
       "Name: ord_3, dtype: int64"
      ]
     },
     "execution_count": 17,
     "metadata": {},
     "output_type": "execute_result"
    }
   ],
   "source": [
    "#Make sure it worked:\n",
    "data['ord_3'].value_counts()"
   ]
  },
  {
   "cell_type": "code",
   "execution_count": 18,
   "metadata": {},
   "outputs": [],
   "source": [
    "def ord4(x):\n",
    "    num = ord(x) - 65\n",
    "    if num == 0:\n",
    "        num = 1\n",
    "    elif num ==1:\n",
    "        num = 0\n",
    "    elif num == 9:\n",
    "        num = 10\n",
    "    elif num == 10:\n",
    "        num = 9\n",
    "    return num\n",
    "data['ord_4'] = data['ord_4'].map(ord4, na_action='ignore')"
   ]
  },
  {
   "cell_type": "code",
   "execution_count": 19,
   "metadata": {},
   "outputs": [],
   "source": [
    "#With a string of length 2, we can sort based on the ratio of target=1 : target=0, and encode that way:\n",
    "\n",
    "ord5 = {key:(189-value) for value,key in enumerate((train[train['target']==1]['ord_5'].value_counts()/train[train['target']==0]['ord_5'].value_counts()).sort_values(ascending=False).index)} \n",
    "data['ord_5'] = data['ord_5'].map(ord5)"
   ]
  },
  {
   "cell_type": "code",
   "execution_count": 20,
   "metadata": {},
   "outputs": [
    {
     "name": "stdout",
     "output_type": "stream",
     "text": [
      "<class 'pandas.core.frame.DataFrame'>\n",
      "Int64Index: 1000000 entries, 0 to 999999\n",
      "Data columns (total 23 columns):\n",
      "bin_0    970205 non-null float64\n",
      "bin_1    969959 non-null float64\n",
      "bin_2    970098 non-null float64\n",
      "bin_3    970035 non-null object\n",
      "bin_4    970002 non-null object\n",
      "nom_0    969686 non-null object\n",
      "nom_1    969897 non-null object\n",
      "nom_2    969786 non-null object\n",
      "nom_3    969703 non-null object\n",
      "nom_4    969972 non-null object\n",
      "nom_5    970310 non-null object\n",
      "nom_6    969857 non-null object\n",
      "nom_7    969994 non-null object\n",
      "nom_8    970289 non-null object\n",
      "nom_9    969867 non-null object\n",
      "ord_0    969819 non-null float64\n",
      "ord_1    969792 non-null float64\n",
      "ord_2    969820 non-null float64\n",
      "ord_3    970031 non-null float64\n",
      "ord_4    970137 non-null float64\n",
      "ord_5    970240 non-null float64\n",
      "day      970023 non-null float64\n",
      "month    970028 non-null float64\n",
      "dtypes: float64(11), object(12)\n",
      "memory usage: 183.1+ MB\n"
     ]
    }
   ],
   "source": [
    "data.info()"
   ]
  },
  {
   "cell_type": "code",
   "execution_count": 21,
   "metadata": {},
   "outputs": [
    {
     "name": "stdout",
     "output_type": "stream",
     "text": [
      "nom_0 3\n",
      "nom_1 6\n",
      "nom_2 6\n",
      "nom_3 6\n",
      "nom_4 4\n",
      "nom_5 1220\n",
      "nom_6 1520\n",
      "nom_7 222\n",
      "nom_8 222\n",
      "nom_9 2218\n"
     ]
    }
   ],
   "source": [
    "#Look at number of unique entries for nominal features:\n",
    "for col in nom_cols:\n",
    "    print(col, data[col].nunique())"
   ]
  },
  {
   "cell_type": "code",
   "execution_count": 22,
   "metadata": {},
   "outputs": [
    {
     "name": "stdout",
     "output_type": "stream",
     "text": [
      "day 3.0    189801\n",
      "5.0    184141\n",
      "6.0    161923\n",
      "7.0    144151\n",
      "1.0    141249\n",
      "2.0    109316\n",
      "4.0     39442\n",
      "Name: day, dtype: int64\n",
      "\n",
      "month 8.0     132517\n",
      "3.0     117523\n",
      "5.0     114802\n",
      "12.0    113678\n",
      "6.0     100779\n",
      "7.0      89109\n",
      "1.0      86765\n",
      "11.0     85330\n",
      "2.0      67628\n",
      "9.0      34072\n",
      "4.0      24183\n",
      "10.0      3642\n",
      "Name: month, dtype: int64\n",
      "\n"
     ]
    }
   ],
   "source": [
    "#And time features:\n",
    "for col in time_cols:\n",
    "    print(col, data[col].value_counts())\n",
    "    print('')"
   ]
  },
  {
   "cell_type": "code",
   "execution_count": 23,
   "metadata": {},
   "outputs": [],
   "source": [
    "#Convert time features to unit circle x and y because they are cyclical:\n",
    "for col in time_cols:\n",
    "    data[col+'_sin'] = np.sin(2*np.pi*data[col]/data[col].nunique())\n",
    "    data[col+'_cos'] = np.cos(2*np.pi*data[col]/data[col].nunique())\n",
    "data = data.drop(columns=time_cols)"
   ]
  },
  {
   "cell_type": "code",
   "execution_count": 24,
   "metadata": {},
   "outputs": [],
   "source": [
    "#Make binary features 0s and 1s\n",
    "def bin3(x):\n",
    "    if x == 'F':\n",
    "        return 0\n",
    "    elif x == 'T':\n",
    "        return 1\n",
    "    else:\n",
    "        return x\n",
    "\n",
    "data['bin_3'] = data['bin_3'].apply(lambda x: bin3(x))"
   ]
  },
  {
   "cell_type": "code",
   "execution_count": 25,
   "metadata": {},
   "outputs": [],
   "source": [
    "def bin4(x):\n",
    "    if x == 'N':\n",
    "        return 0\n",
    "    elif x == 'Y':\n",
    "        return 1\n",
    "    else:\n",
    "        return x\n",
    "\n",
    "data['bin_4'] = data['bin_4'].apply(lambda x: bin4(x))"
   ]
  },
  {
   "cell_type": "code",
   "execution_count": 26,
   "metadata": {},
   "outputs": [
    {
     "data": {
      "text/plain": [
       "b39008216    0.477273\n",
       "230229e51    0.371327\n",
       "942593b74    0.365546\n",
       "3ef3018d3    0.362786\n",
       "5ddc9a726    0.356387\n",
       "               ...   \n",
       "ac365406b    0.115875\n",
       "598080a91    0.115202\n",
       "b4eb50264    0.114508\n",
       "ba9faf5b1    0.114186\n",
       "8402256f6    0.113270\n",
       "Name: nom_7, Length: 222, dtype: float64"
      ]
     },
     "execution_count": 26,
     "metadata": {},
     "output_type": "execute_result"
    }
   ],
   "source": [
    "#See if there is any hierarchy in this nominal features:\n",
    "(train[train['target']==1]['nom_7'].value_counts()/train[train['target']==0]['nom_7'].value_counts()).sort_values(ascending=False)"
   ]
  },
  {
   "cell_type": "markdown",
   "metadata": {},
   "source": [
    "Not clear. We can assign order based on how we did for the last ordinal feature. It won't be perfect, but it should improve over dropping the columns."
   ]
  },
  {
   "cell_type": "code",
   "execution_count": 27,
   "metadata": {},
   "outputs": [
    {
     "data": {
      "text/plain": [
       "{'a885aacec'}"
      ]
     },
     "execution_count": 27,
     "metadata": {},
     "output_type": "execute_result"
    }
   ],
   "source": [
    "#Check to see if we have any entries in the test set that are not in the training set:\n",
    "set(test['nom_6'])-set(train['nom_6'])"
   ]
  },
  {
   "cell_type": "markdown",
   "metadata": {},
   "source": [
    "We have a lone entry in nominal feature 6 that is not in training set. We will assing it the average."
   ]
  },
  {
   "cell_type": "code",
   "execution_count": 28,
   "metadata": {},
   "outputs": [],
   "source": [
    "#Order the high cardinality nominal features:\n",
    "\n",
    "nom5 = {key:(1220-value) for value,key in enumerate((train[train['target']==1]['nom_5'].value_counts()/train[train['target']==0]['nom_5'].value_counts()).sort_values(ascending=False).index)} \n",
    "data['nom_5'] = data['nom_5'].map(nom5)\n",
    "\n",
    "nom6 = {key:(1520-value) for value,key in enumerate((train[train['target']==1]['nom_6'].value_counts()/train[train['target']==0]['nom_6'].value_counts()).sort_values(ascending=False).index)} \n",
    "data['nom_6'] = data['nom_6'].map(nom6)\n",
    "data['nom_6'] = data['nom_6'].apply(lambda x: 1520/2 if x == 'a885aacec' else x)\n",
    "\n",
    "nom7 = {key:(222-value) for value,key in enumerate((train[train['target']==1]['nom_7'].value_counts()/train[train['target']==0]['nom_7'].value_counts()).sort_values(ascending=False).index)} \n",
    "data['nom_7'] = data['nom_7'].map(nom7)\n",
    "\n",
    "nom8 = {key:(222-value) for value,key in enumerate((train[train['target']==1]['nom_8'].value_counts()/train[train['target']==0]['nom_8'].value_counts()).sort_values(ascending=False).index)} \n",
    "data['nom_8'] = data['nom_8'].map(nom8)\n",
    "\n",
    "nom9 = {key:(2218-value) for value,key in enumerate((train[train['target']==1]['nom_9'].value_counts()/train[train['target']==0]['nom_9'].value_counts()).sort_values(ascending=False).index)} \n",
    "data['nom_9'] = data['nom_9'].map(nom9)\n"
   ]
  },
  {
   "cell_type": "code",
   "execution_count": 29,
   "metadata": {},
   "outputs": [
    {
     "data": {
      "text/html": [
       "<div>\n",
       "<style scoped>\n",
       "    .dataframe tbody tr th:only-of-type {\n",
       "        vertical-align: middle;\n",
       "    }\n",
       "\n",
       "    .dataframe tbody tr th {\n",
       "        vertical-align: top;\n",
       "    }\n",
       "\n",
       "    .dataframe thead th {\n",
       "        text-align: right;\n",
       "    }\n",
       "</style>\n",
       "<table border=\"1\" class=\"dataframe\">\n",
       "  <thead>\n",
       "    <tr style=\"text-align: right;\">\n",
       "      <th></th>\n",
       "      <th>bin_0</th>\n",
       "      <th>bin_1</th>\n",
       "      <th>bin_2</th>\n",
       "      <th>bin_3</th>\n",
       "      <th>bin_4</th>\n",
       "      <th>nom_0</th>\n",
       "      <th>nom_1</th>\n",
       "      <th>nom_2</th>\n",
       "      <th>nom_3</th>\n",
       "      <th>nom_4</th>\n",
       "      <th>...</th>\n",
       "      <th>ord_0</th>\n",
       "      <th>ord_1</th>\n",
       "      <th>ord_2</th>\n",
       "      <th>ord_3</th>\n",
       "      <th>ord_4</th>\n",
       "      <th>ord_5</th>\n",
       "      <th>day_sin</th>\n",
       "      <th>day_cos</th>\n",
       "      <th>month_sin</th>\n",
       "      <th>month_cos</th>\n",
       "    </tr>\n",
       "    <tr>\n",
       "      <th>id</th>\n",
       "      <th></th>\n",
       "      <th></th>\n",
       "      <th></th>\n",
       "      <th></th>\n",
       "      <th></th>\n",
       "      <th></th>\n",
       "      <th></th>\n",
       "      <th></th>\n",
       "      <th></th>\n",
       "      <th></th>\n",
       "      <th></th>\n",
       "      <th></th>\n",
       "      <th></th>\n",
       "      <th></th>\n",
       "      <th></th>\n",
       "      <th></th>\n",
       "      <th></th>\n",
       "      <th></th>\n",
       "      <th></th>\n",
       "      <th></th>\n",
       "      <th></th>\n",
       "    </tr>\n",
       "  </thead>\n",
       "  <tbody>\n",
       "    <tr>\n",
       "      <th>0</th>\n",
       "      <td>0.0</td>\n",
       "      <td>0.0</td>\n",
       "      <td>0.0</td>\n",
       "      <td>0.0</td>\n",
       "      <td>0.0</td>\n",
       "      <td>Red</td>\n",
       "      <td>Trapezoid</td>\n",
       "      <td>Hamster</td>\n",
       "      <td>Russia</td>\n",
       "      <td>Bassoon</td>\n",
       "      <td>...</td>\n",
       "      <td>3.0</td>\n",
       "      <td>1.0</td>\n",
       "      <td>3.0</td>\n",
       "      <td>2.0</td>\n",
       "      <td>20.0</td>\n",
       "      <td>42.0</td>\n",
       "      <td>-7.818315e-01</td>\n",
       "      <td>0.623490</td>\n",
       "      <td>1.000000e+00</td>\n",
       "      <td>6.123234e-17</td>\n",
       "    </tr>\n",
       "    <tr>\n",
       "      <th>1</th>\n",
       "      <td>1.0</td>\n",
       "      <td>1.0</td>\n",
       "      <td>0.0</td>\n",
       "      <td>0.0</td>\n",
       "      <td>1.0</td>\n",
       "      <td>Red</td>\n",
       "      <td>Star</td>\n",
       "      <td>Axolotl</td>\n",
       "      <td>NaN</td>\n",
       "      <td>Theremin</td>\n",
       "      <td>...</td>\n",
       "      <td>3.0</td>\n",
       "      <td>4.0</td>\n",
       "      <td>2.0</td>\n",
       "      <td>4.0</td>\n",
       "      <td>23.0</td>\n",
       "      <td>145.0</td>\n",
       "      <td>-2.449294e-16</td>\n",
       "      <td>1.000000</td>\n",
       "      <td>-5.000000e-01</td>\n",
       "      <td>-8.660254e-01</td>\n",
       "    </tr>\n",
       "    <tr>\n",
       "      <th>2</th>\n",
       "      <td>0.0</td>\n",
       "      <td>1.0</td>\n",
       "      <td>0.0</td>\n",
       "      <td>0.0</td>\n",
       "      <td>0.0</td>\n",
       "      <td>Red</td>\n",
       "      <td>NaN</td>\n",
       "      <td>Hamster</td>\n",
       "      <td>Canada</td>\n",
       "      <td>Bassoon</td>\n",
       "      <td>...</td>\n",
       "      <td>3.0</td>\n",
       "      <td>NaN</td>\n",
       "      <td>0.0</td>\n",
       "      <td>13.0</td>\n",
       "      <td>15.0</td>\n",
       "      <td>118.0</td>\n",
       "      <td>-9.749279e-01</td>\n",
       "      <td>-0.222521</td>\n",
       "      <td>-1.000000e+00</td>\n",
       "      <td>-1.836970e-16</td>\n",
       "    </tr>\n",
       "    <tr>\n",
       "      <th>3</th>\n",
       "      <td>NaN</td>\n",
       "      <td>0.0</td>\n",
       "      <td>0.0</td>\n",
       "      <td>0.0</td>\n",
       "      <td>0.0</td>\n",
       "      <td>Red</td>\n",
       "      <td>Circle</td>\n",
       "      <td>Hamster</td>\n",
       "      <td>Finland</td>\n",
       "      <td>Theremin</td>\n",
       "      <td>...</td>\n",
       "      <td>1.0</td>\n",
       "      <td>0.0</td>\n",
       "      <td>5.0</td>\n",
       "      <td>0.0</td>\n",
       "      <td>2.0</td>\n",
       "      <td>NaN</td>\n",
       "      <td>4.338837e-01</td>\n",
       "      <td>-0.900969</td>\n",
       "      <td>1.000000e+00</td>\n",
       "      <td>6.123234e-17</td>\n",
       "    </tr>\n",
       "    <tr>\n",
       "      <th>4</th>\n",
       "      <td>0.0</td>\n",
       "      <td>NaN</td>\n",
       "      <td>0.0</td>\n",
       "      <td>1.0</td>\n",
       "      <td>0.0</td>\n",
       "      <td>Red</td>\n",
       "      <td>Triangle</td>\n",
       "      <td>Hamster</td>\n",
       "      <td>Costa Rica</td>\n",
       "      <td>NaN</td>\n",
       "      <td>...</td>\n",
       "      <td>3.0</td>\n",
       "      <td>4.0</td>\n",
       "      <td>1.0</td>\n",
       "      <td>7.0</td>\n",
       "      <td>2.0</td>\n",
       "      <td>61.0</td>\n",
       "      <td>-9.749279e-01</td>\n",
       "      <td>-0.222521</td>\n",
       "      <td>-2.449294e-16</td>\n",
       "      <td>1.000000e+00</td>\n",
       "    </tr>\n",
       "  </tbody>\n",
       "</table>\n",
       "<p>5 rows × 25 columns</p>\n",
       "</div>"
      ],
      "text/plain": [
       "    bin_0  bin_1  bin_2  bin_3  bin_4 nom_0      nom_1    nom_2       nom_3  \\\n",
       "id                                                                            \n",
       "0     0.0    0.0    0.0    0.0    0.0   Red  Trapezoid  Hamster      Russia   \n",
       "1     1.0    1.0    0.0    0.0    1.0   Red       Star  Axolotl         NaN   \n",
       "2     0.0    1.0    0.0    0.0    0.0   Red        NaN  Hamster      Canada   \n",
       "3     NaN    0.0    0.0    0.0    0.0   Red     Circle  Hamster     Finland   \n",
       "4     0.0    NaN    0.0    1.0    0.0   Red   Triangle  Hamster  Costa Rica   \n",
       "\n",
       "       nom_4  ...  ord_0  ord_1  ord_2  ord_3  ord_4  ord_5       day_sin  \\\n",
       "id            ...                                                           \n",
       "0    Bassoon  ...    3.0    1.0    3.0    2.0   20.0   42.0 -7.818315e-01   \n",
       "1   Theremin  ...    3.0    4.0    2.0    4.0   23.0  145.0 -2.449294e-16   \n",
       "2    Bassoon  ...    3.0    NaN    0.0   13.0   15.0  118.0 -9.749279e-01   \n",
       "3   Theremin  ...    1.0    0.0    5.0    0.0    2.0    NaN  4.338837e-01   \n",
       "4        NaN  ...    3.0    4.0    1.0    7.0    2.0   61.0 -9.749279e-01   \n",
       "\n",
       "     day_cos     month_sin     month_cos  \n",
       "id                                        \n",
       "0   0.623490  1.000000e+00  6.123234e-17  \n",
       "1   1.000000 -5.000000e-01 -8.660254e-01  \n",
       "2  -0.222521 -1.000000e+00 -1.836970e-16  \n",
       "3  -0.900969  1.000000e+00  6.123234e-17  \n",
       "4  -0.222521 -2.449294e-16  1.000000e+00  \n",
       "\n",
       "[5 rows x 25 columns]"
      ]
     },
     "execution_count": 29,
     "metadata": {},
     "output_type": "execute_result"
    }
   ],
   "source": [
    "data.head()"
   ]
  },
  {
   "cell_type": "code",
   "execution_count": 30,
   "metadata": {},
   "outputs": [
    {
     "data": {
      "text/html": [
       "<div>\n",
       "<style scoped>\n",
       "    .dataframe tbody tr th:only-of-type {\n",
       "        vertical-align: middle;\n",
       "    }\n",
       "\n",
       "    .dataframe tbody tr th {\n",
       "        vertical-align: top;\n",
       "    }\n",
       "\n",
       "    .dataframe thead th {\n",
       "        text-align: right;\n",
       "    }\n",
       "</style>\n",
       "<table border=\"1\" class=\"dataframe\">\n",
       "  <thead>\n",
       "    <tr style=\"text-align: right;\">\n",
       "      <th></th>\n",
       "      <th>bin_0</th>\n",
       "      <th>bin_1</th>\n",
       "      <th>bin_2</th>\n",
       "      <th>bin_3</th>\n",
       "      <th>bin_4</th>\n",
       "      <th>nom_5</th>\n",
       "      <th>nom_6</th>\n",
       "      <th>nom_7</th>\n",
       "      <th>nom_8</th>\n",
       "      <th>nom_9</th>\n",
       "      <th>...</th>\n",
       "      <th>nom_3_China</th>\n",
       "      <th>nom_3_Costa Rica</th>\n",
       "      <th>nom_3_Finland</th>\n",
       "      <th>nom_3_India</th>\n",
       "      <th>nom_3_Russia</th>\n",
       "      <th>nom_3_nan</th>\n",
       "      <th>nom_4_Oboe</th>\n",
       "      <th>nom_4_Piano</th>\n",
       "      <th>nom_4_Theremin</th>\n",
       "      <th>nom_4_nan</th>\n",
       "    </tr>\n",
       "    <tr>\n",
       "      <th>id</th>\n",
       "      <th></th>\n",
       "      <th></th>\n",
       "      <th></th>\n",
       "      <th></th>\n",
       "      <th></th>\n",
       "      <th></th>\n",
       "      <th></th>\n",
       "      <th></th>\n",
       "      <th></th>\n",
       "      <th></th>\n",
       "      <th></th>\n",
       "      <th></th>\n",
       "      <th></th>\n",
       "      <th></th>\n",
       "      <th></th>\n",
       "      <th></th>\n",
       "      <th></th>\n",
       "      <th></th>\n",
       "      <th></th>\n",
       "      <th></th>\n",
       "      <th></th>\n",
       "    </tr>\n",
       "  </thead>\n",
       "  <tbody>\n",
       "    <tr>\n",
       "      <th>0</th>\n",
       "      <td>0.0</td>\n",
       "      <td>0.0</td>\n",
       "      <td>0.0</td>\n",
       "      <td>0.0</td>\n",
       "      <td>0.0</td>\n",
       "      <td>909.0</td>\n",
       "      <td>242.0</td>\n",
       "      <td>4.0</td>\n",
       "      <td>22.0</td>\n",
       "      <td>773.0</td>\n",
       "      <td>...</td>\n",
       "      <td>0</td>\n",
       "      <td>0</td>\n",
       "      <td>0</td>\n",
       "      <td>0</td>\n",
       "      <td>1</td>\n",
       "      <td>0</td>\n",
       "      <td>0</td>\n",
       "      <td>0</td>\n",
       "      <td>0</td>\n",
       "      <td>0</td>\n",
       "    </tr>\n",
       "    <tr>\n",
       "      <th>1</th>\n",
       "      <td>1.0</td>\n",
       "      <td>1.0</td>\n",
       "      <td>0.0</td>\n",
       "      <td>0.0</td>\n",
       "      <td>1.0</td>\n",
       "      <td>690.0</td>\n",
       "      <td>1089.0</td>\n",
       "      <td>26.0</td>\n",
       "      <td>139.0</td>\n",
       "      <td>591.0</td>\n",
       "      <td>...</td>\n",
       "      <td>0</td>\n",
       "      <td>0</td>\n",
       "      <td>0</td>\n",
       "      <td>0</td>\n",
       "      <td>0</td>\n",
       "      <td>1</td>\n",
       "      <td>0</td>\n",
       "      <td>0</td>\n",
       "      <td>1</td>\n",
       "      <td>0</td>\n",
       "    </tr>\n",
       "    <tr>\n",
       "      <th>2</th>\n",
       "      <td>0.0</td>\n",
       "      <td>1.0</td>\n",
       "      <td>0.0</td>\n",
       "      <td>0.0</td>\n",
       "      <td>0.0</td>\n",
       "      <td>539.0</td>\n",
       "      <td>286.0</td>\n",
       "      <td>218.0</td>\n",
       "      <td>95.0</td>\n",
       "      <td>NaN</td>\n",
       "      <td>...</td>\n",
       "      <td>0</td>\n",
       "      <td>0</td>\n",
       "      <td>0</td>\n",
       "      <td>0</td>\n",
       "      <td>0</td>\n",
       "      <td>0</td>\n",
       "      <td>0</td>\n",
       "      <td>0</td>\n",
       "      <td>0</td>\n",
       "      <td>0</td>\n",
       "    </tr>\n",
       "    <tr>\n",
       "      <th>3</th>\n",
       "      <td>NaN</td>\n",
       "      <td>0.0</td>\n",
       "      <td>0.0</td>\n",
       "      <td>0.0</td>\n",
       "      <td>0.0</td>\n",
       "      <td>876.0</td>\n",
       "      <td>1138.0</td>\n",
       "      <td>44.0</td>\n",
       "      <td>175.0</td>\n",
       "      <td>2087.0</td>\n",
       "      <td>...</td>\n",
       "      <td>0</td>\n",
       "      <td>0</td>\n",
       "      <td>1</td>\n",
       "      <td>0</td>\n",
       "      <td>0</td>\n",
       "      <td>0</td>\n",
       "      <td>0</td>\n",
       "      <td>0</td>\n",
       "      <td>1</td>\n",
       "      <td>0</td>\n",
       "    </tr>\n",
       "    <tr>\n",
       "      <th>4</th>\n",
       "      <td>0.0</td>\n",
       "      <td>NaN</td>\n",
       "      <td>0.0</td>\n",
       "      <td>1.0</td>\n",
       "      <td>0.0</td>\n",
       "      <td>196.0</td>\n",
       "      <td>263.0</td>\n",
       "      <td>129.0</td>\n",
       "      <td>NaN</td>\n",
       "      <td>1962.0</td>\n",
       "      <td>...</td>\n",
       "      <td>0</td>\n",
       "      <td>1</td>\n",
       "      <td>0</td>\n",
       "      <td>0</td>\n",
       "      <td>0</td>\n",
       "      <td>0</td>\n",
       "      <td>0</td>\n",
       "      <td>0</td>\n",
       "      <td>0</td>\n",
       "      <td>1</td>\n",
       "    </tr>\n",
       "  </tbody>\n",
       "</table>\n",
       "<p>5 rows × 45 columns</p>\n",
       "</div>"
      ],
      "text/plain": [
       "    bin_0  bin_1  bin_2  bin_3  bin_4  nom_5   nom_6  nom_7  nom_8   nom_9  \\\n",
       "id                                                                           \n",
       "0     0.0    0.0    0.0    0.0    0.0  909.0   242.0    4.0   22.0   773.0   \n",
       "1     1.0    1.0    0.0    0.0    1.0  690.0  1089.0   26.0  139.0   591.0   \n",
       "2     0.0    1.0    0.0    0.0    0.0  539.0   286.0  218.0   95.0     NaN   \n",
       "3     NaN    0.0    0.0    0.0    0.0  876.0  1138.0   44.0  175.0  2087.0   \n",
       "4     0.0    NaN    0.0    1.0    0.0  196.0   263.0  129.0    NaN  1962.0   \n",
       "\n",
       "    ...  nom_3_China  nom_3_Costa Rica  nom_3_Finland  nom_3_India  \\\n",
       "id  ...                                                              \n",
       "0   ...            0                 0              0            0   \n",
       "1   ...            0                 0              0            0   \n",
       "2   ...            0                 0              0            0   \n",
       "3   ...            0                 0              1            0   \n",
       "4   ...            0                 1              0            0   \n",
       "\n",
       "    nom_3_Russia  nom_3_nan  nom_4_Oboe  nom_4_Piano  nom_4_Theremin  \\\n",
       "id                                                                     \n",
       "0              1          0           0            0               0   \n",
       "1              0          1           0            0               1   \n",
       "2              0          0           0            0               0   \n",
       "3              0          0           0            0               1   \n",
       "4              0          0           0            0               0   \n",
       "\n",
       "    nom_4_nan  \n",
       "id             \n",
       "0           0  \n",
       "1           0  \n",
       "2           0  \n",
       "3           0  \n",
       "4           1  \n",
       "\n",
       "[5 rows x 45 columns]"
      ]
     },
     "execution_count": 30,
     "metadata": {},
     "output_type": "execute_result"
    }
   ],
   "source": [
    "#For the low cardinality nominal features, we can one-hot encode, including extra column for if null\n",
    "\n",
    "data = pd.get_dummies(\n",
    "    data,\n",
    "    columns=nom_cols[:5],\n",
    "    drop_first=True,\n",
    "    dummy_na=True,\n",
    "    sparse=True)\n",
    "data.head()"
   ]
  },
  {
   "cell_type": "code",
   "execution_count": 31,
   "metadata": {},
   "outputs": [
    {
     "data": {
      "text/plain": [
       "bin_0               29795.0\n",
       "bin_1               30041.0\n",
       "bin_2               29902.0\n",
       "bin_3               29965.0\n",
       "bin_4               29998.0\n",
       "nom_5               29690.0\n",
       "nom_6               30144.0\n",
       "nom_7               30006.0\n",
       "nom_8               29711.0\n",
       "nom_9               30133.0\n",
       "ord_0               30181.0\n",
       "ord_1               30208.0\n",
       "ord_2               30180.0\n",
       "ord_3               29969.0\n",
       "ord_4               29863.0\n",
       "ord_5               29760.0\n",
       "day_sin             29977.0\n",
       "day_cos             29977.0\n",
       "month_sin           29972.0\n",
       "month_cos           29972.0\n",
       "nom_0_Green             0.0\n",
       "nom_0_Red               0.0\n",
       "nom_0_nan               0.0\n",
       "nom_1_Polygon           0.0\n",
       "nom_1_Square            0.0\n",
       "nom_1_Star              0.0\n",
       "nom_1_Trapezoid         0.0\n",
       "nom_1_Triangle          0.0\n",
       "nom_1_nan               0.0\n",
       "nom_2_Cat               0.0\n",
       "nom_2_Dog               0.0\n",
       "nom_2_Hamster           0.0\n",
       "nom_2_Lion              0.0\n",
       "nom_2_Snake             0.0\n",
       "nom_2_nan               0.0\n",
       "nom_3_China             0.0\n",
       "nom_3_Costa Rica        0.0\n",
       "nom_3_Finland           0.0\n",
       "nom_3_India             0.0\n",
       "nom_3_Russia            0.0\n",
       "nom_3_nan               0.0\n",
       "nom_4_Oboe              0.0\n",
       "nom_4_Piano             0.0\n",
       "nom_4_Theremin          0.0\n",
       "nom_4_nan               0.0\n",
       "dtype: float64"
      ]
     },
     "execution_count": 31,
     "metadata": {},
     "output_type": "execute_result"
    }
   ],
   "source": [
    "#Look at columns with null cells\n",
    "data.isnull().sum()"
   ]
  },
  {
   "cell_type": "code",
   "execution_count": 32,
   "metadata": {},
   "outputs": [],
   "source": [
    "#We need to impute. But we can also make extra features with 1 if data is missing in that column:\n",
    "\n",
    "missing_data_columns = bin_cols + ord_cols + nom_cols[5:] + ['day_sin','month_sin']\n",
    "for col in missing_data_columns:\n",
    "    data[col+'_is_missing'] = data[col].isnull().astype(int)"
   ]
  },
  {
   "cell_type": "code",
   "execution_count": 33,
   "metadata": {},
   "outputs": [
    {
     "data": {
      "text/plain": [
       "{'bin_0': 0.0923010585700886,\n",
       " 'bin_1': 0.18553188418497002,\n",
       " 'bin_2': 0.2787035923514354,\n",
       " 'bin_3': 0.370754622963439,\n",
       " 'bin_4': 0.46328311736514804,\n",
       " 'ord_0': 1.9482235195423165,\n",
       " 'ord_1': 1.7194218149388532,\n",
       " 'ord_2': 2.0830588134209735,\n",
       " 'ord_3': 6.810774733543612,\n",
       " 'ord_4': 12.293301492947583,\n",
       " 'ord_5': 90.77979930858838,\n",
       " 'nom_5': 610.7522319665007,\n",
       " 'nom_6': 771.2109925086231,\n",
       " 'nom_7': 113.15324477617582,\n",
       " 'nom_8': 113.6072787228744,\n",
       " 'nom_9': 1115.426807829848,\n",
       " 'day_sin': -0.02517469905991493,\n",
       " 'month_sin': 0.06041231356722278,\n",
       " 'day_cos': 0.06351955496895055,\n",
       " 'month_cos': -0.05868436797517374}"
      ]
     },
     "execution_count": 33,
     "metadata": {},
     "output_type": "execute_result"
    }
   ],
   "source": [
    "#To impute for all columns, we will use the mean of the training data:\n",
    "\n",
    "mean_imp_dic = {}\n",
    "missing_data_columns = missing_data_columns + ['day_cos', 'month_cos']\n",
    "for col in missing_data_columns:\n",
    "    mean_imp_dic[col] = data[col][:600000].mean()\n",
    "mean_imp_dic\n",
    "\n",
    "#could possibly improve imputer?"
   ]
  },
  {
   "cell_type": "code",
   "execution_count": 34,
   "metadata": {},
   "outputs": [],
   "source": [
    "#Fill NaN in train and test (data) with that mean:\n",
    "for col in missing_data_columns:\n",
    "    data[col].fillna(mean_imp_dic[col], inplace = True)"
   ]
  },
  {
   "cell_type": "code",
   "execution_count": 35,
   "metadata": {},
   "outputs": [
    {
     "name": "stdout",
     "output_type": "stream",
     "text": [
      "<class 'pandas.core.frame.DataFrame'>\n",
      "Int64Index: 1000000 entries, 0 to 999999\n",
      "Data columns (total 63 columns):\n",
      "bin_0                   -1000000 non-null float64\n",
      "bin_1                   -1000000 non-null float64\n",
      "bin_2                   -1000000 non-null float64\n",
      "bin_3                   -1000000 non-null float64\n",
      "bin_4                   -1000000 non-null float64\n",
      "nom_5                   -1000000 non-null float64\n",
      "nom_6                   -1000000 non-null float64\n",
      "nom_7                   -1000000 non-null float64\n",
      "nom_8                   -1000000 non-null float64\n",
      "nom_9                   -1000000 non-null float64\n",
      "ord_0                   -1000000 non-null float64\n",
      "ord_1                   -1000000 non-null float64\n",
      "ord_2                   -1000000 non-null float64\n",
      "ord_3                   -1000000 non-null float64\n",
      "ord_4                   -1000000 non-null float64\n",
      "ord_5                   -1000000 non-null float64\n",
      "day_sin                 -1000000 non-null float64\n",
      "day_cos                 -1000000 non-null float64\n",
      "month_sin               -1000000 non-null float64\n",
      "month_cos               -1000000 non-null float64\n",
      "nom_0_Green             -1000000 non-null Sparse[uint8, 0]\n",
      "nom_0_Red               -1000000 non-null Sparse[uint8, 0]\n",
      "nom_0_nan               -1000000 non-null Sparse[uint8, 0]\n",
      "nom_1_Polygon           -1000000 non-null Sparse[uint8, 0]\n",
      "nom_1_Square            -1000000 non-null Sparse[uint8, 0]\n",
      "nom_1_Star              -1000000 non-null Sparse[uint8, 0]\n",
      "nom_1_Trapezoid         -1000000 non-null Sparse[uint8, 0]\n",
      "nom_1_Triangle          -1000000 non-null Sparse[uint8, 0]\n",
      "nom_1_nan               -1000000 non-null Sparse[uint8, 0]\n",
      "nom_2_Cat               -1000000 non-null Sparse[uint8, 0]\n",
      "nom_2_Dog               -1000000 non-null Sparse[uint8, 0]\n",
      "nom_2_Hamster           -1000000 non-null Sparse[uint8, 0]\n",
      "nom_2_Lion              -1000000 non-null Sparse[uint8, 0]\n",
      "nom_2_Snake             -1000000 non-null Sparse[uint8, 0]\n",
      "nom_2_nan               -1000000 non-null Sparse[uint8, 0]\n",
      "nom_3_China             -1000000 non-null Sparse[uint8, 0]\n",
      "nom_3_Costa Rica        -1000000 non-null Sparse[uint8, 0]\n",
      "nom_3_Finland           -1000000 non-null Sparse[uint8, 0]\n",
      "nom_3_India             -1000000 non-null Sparse[uint8, 0]\n",
      "nom_3_Russia            -1000000 non-null Sparse[uint8, 0]\n",
      "nom_3_nan               -1000000 non-null Sparse[uint8, 0]\n",
      "nom_4_Oboe              -1000000 non-null Sparse[uint8, 0]\n",
      "nom_4_Piano             -1000000 non-null Sparse[uint8, 0]\n",
      "nom_4_Theremin          -1000000 non-null Sparse[uint8, 0]\n",
      "nom_4_nan               -1000000 non-null Sparse[uint8, 0]\n",
      "bin_0_is_missing        -1000000 non-null int64\n",
      "bin_1_is_missing        -1000000 non-null int64\n",
      "bin_2_is_missing        -1000000 non-null int64\n",
      "bin_3_is_missing        -1000000 non-null int64\n",
      "bin_4_is_missing        -1000000 non-null int64\n",
      "ord_0_is_missing        -1000000 non-null int64\n",
      "ord_1_is_missing        -1000000 non-null int64\n",
      "ord_2_is_missing        -1000000 non-null int64\n",
      "ord_3_is_missing        -1000000 non-null int64\n",
      "ord_4_is_missing        -1000000 non-null int64\n",
      "ord_5_is_missing        -1000000 non-null int64\n",
      "nom_5_is_missing        -1000000 non-null int64\n",
      "nom_6_is_missing        -1000000 non-null int64\n",
      "nom_7_is_missing        -1000000 non-null int64\n",
      "nom_8_is_missing        -1000000 non-null int64\n",
      "nom_9_is_missing        -1000000 non-null int64\n",
      "day_sin_is_missing      -1000000 non-null int64\n",
      "month_sin_is_missing    -1000000 non-null int64\n",
      "dtypes: Sparse[uint8, 0](25), float64(20), int64(18)\n",
      "memory usage: 315.9 MB\n"
     ]
    }
   ],
   "source": [
    "data.info()"
   ]
  },
  {
   "cell_type": "markdown",
   "metadata": {},
   "source": [
    "No more missing data! And all features are numerical. We can begin building a model.\n",
    "First, we will use a min-max scaler, which will improve if we use certain models:"
   ]
  },
  {
   "cell_type": "code",
   "execution_count": 36,
   "metadata": {},
   "outputs": [],
   "source": [
    "from sklearn import preprocessing\n",
    "\n",
    "data_values = data.values\n",
    "min_max_scaler = preprocessing.MinMaxScaler()\n",
    "data_scaled = min_max_scaler.fit_transform(data_values)\n",
    "\n",
    "data = pd.DataFrame(data_scaled)"
   ]
  },
  {
   "cell_type": "markdown",
   "metadata": {},
   "source": [
    "Let's explore a few different models. We will try logistic regression, random forest, xgboost, and catboost:"
   ]
  },
  {
   "cell_type": "code",
   "execution_count": 37,
   "metadata": {},
   "outputs": [
    {
     "name": "stdout",
     "output_type": "stream",
     "text": [
      "Logistic Regressor\n",
      "\n"
     ]
    },
    {
     "name": "stderr",
     "output_type": "stream",
     "text": [
      "[Parallel(n_jobs=1)]: Using backend SequentialBackend with 1 concurrent workers.\n"
     ]
    },
    {
     "name": "stdout",
     "output_type": "stream",
     "text": [
      "convergence after 21 epochs took 19 seconds\n",
      "Random Forest Regressor\n",
      "\n",
      "building tree 1 of 50\n"
     ]
    },
    {
     "name": "stderr",
     "output_type": "stream",
     "text": [
      "[Parallel(n_jobs=1)]: Done   1 out of   1 | elapsed:   18.6s finished\n",
      "[Parallel(n_jobs=1)]: Using backend SequentialBackend with 1 concurrent workers.\n",
      "[Parallel(n_jobs=1)]: Done   1 out of   1 | elapsed:   10.3s remaining:    0.0s\n"
     ]
    },
    {
     "name": "stdout",
     "output_type": "stream",
     "text": [
      "building tree 2 of 50\n",
      "building tree 3 of 50\n",
      "building tree 4 of 50\n",
      "building tree 5 of 50\n",
      "building tree 6 of 50\n",
      "building tree 7 of 50\n",
      "building tree 8 of 50\n",
      "building tree 9 of 50\n",
      "building tree 10 of 50\n",
      "building tree 11 of 50\n",
      "building tree 12 of 50\n",
      "building tree 13 of 50\n",
      "building tree 14 of 50\n",
      "building tree 15 of 50\n",
      "building tree 16 of 50\n",
      "building tree 17 of 50\n",
      "building tree 18 of 50\n",
      "building tree 19 of 50\n",
      "building tree 20 of 50\n",
      "building tree 21 of 50\n",
      "building tree 22 of 50\n",
      "building tree 23 of 50\n",
      "building tree 24 of 50\n",
      "building tree 25 of 50\n",
      "building tree 26 of 50\n",
      "building tree 27 of 50\n",
      "building tree 28 of 50\n",
      "building tree 29 of 50\n",
      "building tree 30 of 50\n",
      "building tree 31 of 50\n",
      "building tree 32 of 50\n",
      "building tree 33 of 50\n",
      "building tree 34 of 50\n",
      "building tree 35 of 50\n",
      "building tree 36 of 50\n",
      "building tree 37 of 50\n",
      "building tree 38 of 50\n",
      "building tree 39 of 50\n",
      "building tree 40 of 50\n",
      "building tree 41 of 50\n",
      "building tree 42 of 50\n",
      "building tree 43 of 50\n",
      "building tree 44 of 50\n",
      "building tree 45 of 50\n",
      "building tree 46 of 50\n",
      "building tree 47 of 50\n",
      "building tree 48 of 50\n",
      "building tree 49 of 50\n",
      "building tree 50 of 50\n"
     ]
    },
    {
     "name": "stderr",
     "output_type": "stream",
     "text": [
      "[Parallel(n_jobs=1)]: Done  50 out of  50 | elapsed:  8.3min finished\n",
      "[Parallel(n_jobs=1)]: Using backend SequentialBackend with 1 concurrent workers.\n",
      "[Parallel(n_jobs=1)]: Done   1 out of   1 | elapsed:    0.0s remaining:    0.0s\n",
      "[Parallel(n_jobs=1)]: Done  50 out of  50 | elapsed:    0.4s finished\n"
     ]
    },
    {
     "name": "stdout",
     "output_type": "stream",
     "text": [
      "XBG Regressor\n",
      "\n",
      "[20:08:51] INFO: /workspace/src/tree/updater_prune.cc:89: tree pruning end, 126 extra nodes, 0 pruned nodes, max_depth=6\n",
      "[20:08:52] INFO: /workspace/src/tree/updater_prune.cc:89: tree pruning end, 126 extra nodes, 0 pruned nodes, max_depth=6\n",
      "[20:08:52] INFO: /workspace/src/tree/updater_prune.cc:89: tree pruning end, 126 extra nodes, 0 pruned nodes, max_depth=6\n",
      "[20:08:53] INFO: /workspace/src/tree/updater_prune.cc:89: tree pruning end, 126 extra nodes, 0 pruned nodes, max_depth=6\n",
      "[20:08:54] INFO: /workspace/src/tree/updater_prune.cc:89: tree pruning end, 126 extra nodes, 0 pruned nodes, max_depth=6\n",
      "[20:08:55] INFO: /workspace/src/tree/updater_prune.cc:89: tree pruning end, 126 extra nodes, 0 pruned nodes, max_depth=6\n",
      "[20:08:56] INFO: /workspace/src/tree/updater_prune.cc:89: tree pruning end, 126 extra nodes, 0 pruned nodes, max_depth=6\n",
      "[20:08:56] INFO: /workspace/src/tree/updater_prune.cc:89: tree pruning end, 126 extra nodes, 0 pruned nodes, max_depth=6\n",
      "[20:08:57] INFO: /workspace/src/tree/updater_prune.cc:89: tree pruning end, 126 extra nodes, 0 pruned nodes, max_depth=6\n",
      "[20:08:58] INFO: /workspace/src/tree/updater_prune.cc:89: tree pruning end, 126 extra nodes, 0 pruned nodes, max_depth=6\n",
      "[20:08:59] INFO: /workspace/src/tree/updater_prune.cc:89: tree pruning end, 126 extra nodes, 0 pruned nodes, max_depth=6\n",
      "[20:09:00] INFO: /workspace/src/tree/updater_prune.cc:89: tree pruning end, 126 extra nodes, 0 pruned nodes, max_depth=6\n",
      "[20:09:01] INFO: /workspace/src/tree/updater_prune.cc:89: tree pruning end, 126 extra nodes, 0 pruned nodes, max_depth=6\n",
      "[20:09:02] INFO: /workspace/src/tree/updater_prune.cc:89: tree pruning end, 126 extra nodes, 0 pruned nodes, max_depth=6\n",
      "[20:09:02] INFO: /workspace/src/tree/updater_prune.cc:89: tree pruning end, 126 extra nodes, 0 pruned nodes, max_depth=6\n",
      "[20:09:03] INFO: /workspace/src/tree/updater_prune.cc:89: tree pruning end, 126 extra nodes, 0 pruned nodes, max_depth=6\n",
      "[20:09:04] INFO: /workspace/src/tree/updater_prune.cc:89: tree pruning end, 126 extra nodes, 0 pruned nodes, max_depth=6\n",
      "[20:09:05] INFO: /workspace/src/tree/updater_prune.cc:89: tree pruning end, 126 extra nodes, 0 pruned nodes, max_depth=6\n",
      "[20:09:06] INFO: /workspace/src/tree/updater_prune.cc:89: tree pruning end, 126 extra nodes, 0 pruned nodes, max_depth=6\n",
      "[20:09:06] INFO: /workspace/src/tree/updater_prune.cc:89: tree pruning end, 126 extra nodes, 0 pruned nodes, max_depth=6\n",
      "[20:09:07] INFO: /workspace/src/tree/updater_prune.cc:89: tree pruning end, 126 extra nodes, 0 pruned nodes, max_depth=6\n",
      "[20:09:08] INFO: /workspace/src/tree/updater_prune.cc:89: tree pruning end, 126 extra nodes, 0 pruned nodes, max_depth=6\n",
      "[20:09:09] INFO: /workspace/src/tree/updater_prune.cc:89: tree pruning end, 126 extra nodes, 0 pruned nodes, max_depth=6\n",
      "[20:09:10] INFO: /workspace/src/tree/updater_prune.cc:89: tree pruning end, 126 extra nodes, 0 pruned nodes, max_depth=6\n",
      "[20:09:10] INFO: /workspace/src/tree/updater_prune.cc:89: tree pruning end, 126 extra nodes, 0 pruned nodes, max_depth=6\n",
      "[20:09:11] INFO: /workspace/src/tree/updater_prune.cc:89: tree pruning end, 126 extra nodes, 0 pruned nodes, max_depth=6\n",
      "[20:09:12] INFO: /workspace/src/tree/updater_prune.cc:89: tree pruning end, 126 extra nodes, 0 pruned nodes, max_depth=6\n",
      "[20:09:13] INFO: /workspace/src/tree/updater_prune.cc:89: tree pruning end, 126 extra nodes, 0 pruned nodes, max_depth=6\n",
      "[20:09:14] INFO: /workspace/src/tree/updater_prune.cc:89: tree pruning end, 126 extra nodes, 0 pruned nodes, max_depth=6\n",
      "[20:09:14] INFO: /workspace/src/tree/updater_prune.cc:89: tree pruning end, 126 extra nodes, 0 pruned nodes, max_depth=6\n",
      "0:\ttest: 0.7032595\tbest: 0.7032595 (0)\ttotal: 214ms\tremaining: 3m 33s\n",
      "20:\ttest: 0.7581988\tbest: 0.7581988 (20)\ttotal: 2.58s\tremaining: 2m\n",
      "40:\ttest: 0.7706896\tbest: 0.7706896 (40)\ttotal: 4.83s\tremaining: 1m 52s\n",
      "60:\ttest: 0.7794140\tbest: 0.7794140 (60)\ttotal: 6.93s\tremaining: 1m 46s\n",
      "80:\ttest: 0.7844440\tbest: 0.7844440 (80)\ttotal: 9.02s\tremaining: 1m 42s\n",
      "100:\ttest: 0.7877628\tbest: 0.7877628 (100)\ttotal: 11.1s\tremaining: 1m 38s\n",
      "120:\ttest: 0.7900076\tbest: 0.7900076 (120)\ttotal: 13.1s\tremaining: 1m 35s\n",
      "140:\ttest: 0.7912591\tbest: 0.7912591 (140)\ttotal: 15.3s\tremaining: 1m 33s\n",
      "160:\ttest: 0.7925955\tbest: 0.7925955 (160)\ttotal: 17.4s\tremaining: 1m 30s\n",
      "180:\ttest: 0.7934181\tbest: 0.7934181 (180)\ttotal: 19.4s\tremaining: 1m 27s\n",
      "200:\ttest: 0.7941992\tbest: 0.7941992 (200)\ttotal: 21.4s\tremaining: 1m 25s\n",
      "220:\ttest: 0.7948182\tbest: 0.7948182 (220)\ttotal: 23.7s\tremaining: 1m 23s\n",
      "240:\ttest: 0.7952242\tbest: 0.7952242 (240)\ttotal: 25.8s\tremaining: 1m 21s\n",
      "260:\ttest: 0.7956371\tbest: 0.7956371 (260)\ttotal: 28s\tremaining: 1m 19s\n",
      "280:\ttest: 0.7959644\tbest: 0.7959644 (280)\ttotal: 30.1s\tremaining: 1m 17s\n",
      "300:\ttest: 0.7961824\tbest: 0.7961824 (300)\ttotal: 32.3s\tremaining: 1m 14s\n",
      "320:\ttest: 0.7962739\tbest: 0.7962739 (320)\ttotal: 34.4s\tremaining: 1m 12s\n",
      "340:\ttest: 0.7964817\tbest: 0.7964817 (340)\ttotal: 36.4s\tremaining: 1m 10s\n",
      "360:\ttest: 0.7966359\tbest: 0.7966359 (360)\ttotal: 38.4s\tremaining: 1m 8s\n",
      "380:\ttest: 0.7968299\tbest: 0.7968299 (380)\ttotal: 40.5s\tremaining: 1m 5s\n",
      "400:\ttest: 0.7969821\tbest: 0.7969821 (400)\ttotal: 42.5s\tremaining: 1m 3s\n",
      "420:\ttest: 0.7970790\tbest: 0.7970790 (420)\ttotal: 44.7s\tremaining: 1m 1s\n",
      "440:\ttest: 0.7970763\tbest: 0.7970790 (420)\ttotal: 46.6s\tremaining: 59.1s\n",
      "460:\ttest: 0.7971168\tbest: 0.7971168 (460)\ttotal: 48.8s\tremaining: 57.1s\n",
      "480:\ttest: 0.7971437\tbest: 0.7971437 (480)\ttotal: 50.8s\tremaining: 54.9s\n",
      "500:\ttest: 0.7971986\tbest: 0.7971986 (500)\ttotal: 52.8s\tremaining: 52.6s\n",
      "520:\ttest: 0.7973321\tbest: 0.7973321 (520)\ttotal: 54.9s\tremaining: 50.5s\n",
      "540:\ttest: 0.7973646\tbest: 0.7973646 (540)\ttotal: 56.9s\tremaining: 48.3s\n",
      "560:\ttest: 0.7973422\tbest: 0.7973646 (540)\ttotal: 59s\tremaining: 46.2s\n",
      "580:\ttest: 0.7973236\tbest: 0.7973646 (540)\ttotal: 1m\tremaining: 44s\n",
      "600:\ttest: 0.7973774\tbest: 0.7973774 (600)\ttotal: 1m 2s\tremaining: 41.8s\n",
      "620:\ttest: 0.7974065\tbest: 0.7974065 (620)\ttotal: 1m 5s\tremaining: 39.7s\n",
      "640:\ttest: 0.7974329\tbest: 0.7974329 (640)\ttotal: 1m 7s\tremaining: 37.6s\n",
      "660:\ttest: 0.7974229\tbest: 0.7974329 (640)\ttotal: 1m 9s\tremaining: 35.4s\n",
      "680:\ttest: 0.7974434\tbest: 0.7974434 (680)\ttotal: 1m 11s\tremaining: 33.3s\n",
      "700:\ttest: 0.7974462\tbest: 0.7974462 (700)\ttotal: 1m 13s\tremaining: 31.2s\n",
      "720:\ttest: 0.7974125\tbest: 0.7974462 (700)\ttotal: 1m 15s\tremaining: 29s\n",
      "740:\ttest: 0.7974916\tbest: 0.7974916 (740)\ttotal: 1m 17s\tremaining: 26.9s\n",
      "760:\ttest: 0.7974878\tbest: 0.7974916 (740)\ttotal: 1m 19s\tremaining: 24.8s\n",
      "780:\ttest: 0.7975039\tbest: 0.7975039 (780)\ttotal: 1m 21s\tremaining: 22.8s\n",
      "800:\ttest: 0.7974767\tbest: 0.7975039 (780)\ttotal: 1m 23s\tremaining: 20.8s\n",
      "820:\ttest: 0.7974796\tbest: 0.7975039 (780)\ttotal: 1m 25s\tremaining: 18.6s\n",
      "840:\ttest: 0.7975007\tbest: 0.7975039 (780)\ttotal: 1m 27s\tremaining: 16.6s\n",
      "860:\ttest: 0.7974907\tbest: 0.7975039 (780)\ttotal: 1m 29s\tremaining: 14.5s\n",
      "880:\ttest: 0.7975397\tbest: 0.7975397 (880)\ttotal: 1m 31s\tremaining: 12.4s\n",
      "900:\ttest: 0.7975765\tbest: 0.7975765 (900)\ttotal: 1m 33s\tremaining: 10.3s\n",
      "920:\ttest: 0.7974469\tbest: 0.7975765 (900)\ttotal: 1m 35s\tremaining: 8.21s\n",
      "940:\ttest: 0.7974518\tbest: 0.7975765 (900)\ttotal: 1m 37s\tremaining: 6.13s\n",
      "960:\ttest: 0.7974357\tbest: 0.7975765 (900)\ttotal: 1m 39s\tremaining: 4.04s\n",
      "980:\ttest: 0.7974581\tbest: 0.7975765 (900)\ttotal: 1m 41s\tremaining: 1.97s\n",
      "999:\ttest: 0.7974534\tbest: 0.7975765 (900)\ttotal: 1m 43s\tremaining: 0us\n",
      "\n",
      "bestTest = 0.7975764823\n",
      "bestIteration = 900\n",
      "\n",
      "Shrink model to first 901 iterations.\n"
     ]
    }
   ],
   "source": [
    "from sklearn.model_selection import train_test_split\n",
    "from sklearn.linear_model import LogisticRegression\n",
    "from sklearn.ensemble import RandomForestRegressor\n",
    "from xgboost import XGBRegressor\n",
    "from catboost import CatBoostRegressor\n",
    "from sklearn.metrics import mean_absolute_error, roc_auc_score\n",
    "\n",
    "X_train, X_val, y_train, y_val = train_test_split(data[:600000], train['target'],\n",
    "                                                  test_size=0.025, random_state=1)\n",
    "\n",
    "print(\"Logistic Regressor\")\n",
    "print(\"\")\n",
    "logmodel = LogisticRegression(solver = 'saga', verbose = 1) #Documentation says 'saga' solver is good for big data sets\n",
    "logmodel.fit(X_train,y_train)\n",
    "logpredictions = logmodel.predict(X_val)\n",
    "\n",
    "print(\"Random Forest Regressor\")\n",
    "print(\"\")\n",
    "forestmodel = RandomForestRegressor(n_estimators=50, verbose = 2)\n",
    "forestmodel.fit(X_train,y_train)\n",
    "forestpredictions = forestmodel.predict(X_val)\n",
    "\n",
    "print(\"XBG Regressor\")\n",
    "print(\"\")\n",
    "xgbmodel = XGBRegressor(n_estimators=30, learning_rate=0.001, random_state=0, verbosity = 2)\n",
    "xgbmodel.fit(X_train,y_train)\n",
    "xgbpredictions = xgbmodel.predict(X_val)\n",
    "\n",
    "\n",
    "categorical_features_indices = []\n",
    "catmodel=CatBoostRegressor(iterations=1000, learning_rate=0.05, depth=6, subsample=0.9,\n",
    "                              eval_metric='AUC', metric_period=20, allow_writing_files=False)\n",
    "\n",
    "catmodel.fit(X_train, y_train, cat_features=categorical_features_indices, eval_set=(X_val, y_val))\n",
    "catpredictions = catmodel.predict(X_val)"
   ]
  },
  {
   "cell_type": "code",
   "execution_count": 38,
   "metadata": {},
   "outputs": [
    {
     "name": "stdout",
     "output_type": "stream",
     "text": [
      "log ROC_auc:  0.5935943397155369\n",
      "forest ROC_auc:  0.7562555418167735\n",
      "xgb ROC_auc:  0.7173483247829342\n",
      "cat ROC_auc:  0.7975764823466027\n"
     ]
    }
   ],
   "source": [
    "print(\"log ROC_auc: \", roc_auc_score(y_val,logpredictions))\n",
    "print(\"forest ROC_auc: \", roc_auc_score(y_val, forestpredictions))\n",
    "print(\"xgb ROC_auc: \", roc_auc_score(y_val, xgbpredictions))\n",
    "print(\"cat ROC_auc: \", roc_auc_score(y_val, catpredictions))"
   ]
  },
  {
   "cell_type": "markdown",
   "metadata": {},
   "source": [
    "CatBoostRegressor performed the best, so we will use that to predict on test set to submit:"
   ]
  },
  {
   "cell_type": "code",
   "execution_count": 39,
   "metadata": {},
   "outputs": [],
   "source": [
    "cat_test_predictions = catmodel.predict(data[600000:])"
   ]
  },
  {
   "cell_type": "code",
   "execution_count": 40,
   "metadata": {},
   "outputs": [
    {
     "data": {
      "text/html": [
       "<div>\n",
       "<style scoped>\n",
       "    .dataframe tbody tr th:only-of-type {\n",
       "        vertical-align: middle;\n",
       "    }\n",
       "\n",
       "    .dataframe tbody tr th {\n",
       "        vertical-align: top;\n",
       "    }\n",
       "\n",
       "    .dataframe thead th {\n",
       "        text-align: right;\n",
       "    }\n",
       "</style>\n",
       "<table border=\"1\" class=\"dataframe\">\n",
       "  <thead>\n",
       "    <tr style=\"text-align: right;\">\n",
       "      <th></th>\n",
       "      <th>id</th>\n",
       "      <th>target</th>\n",
       "    </tr>\n",
       "  </thead>\n",
       "  <tbody>\n",
       "    <tr>\n",
       "      <th>0</th>\n",
       "      <td>600000</td>\n",
       "      <td>0.119019</td>\n",
       "    </tr>\n",
       "    <tr>\n",
       "      <th>1</th>\n",
       "      <td>600001</td>\n",
       "      <td>0.291614</td>\n",
       "    </tr>\n",
       "    <tr>\n",
       "      <th>2</th>\n",
       "      <td>600002</td>\n",
       "      <td>0.172049</td>\n",
       "    </tr>\n",
       "    <tr>\n",
       "      <th>3</th>\n",
       "      <td>600003</td>\n",
       "      <td>0.170678</td>\n",
       "    </tr>\n",
       "    <tr>\n",
       "      <th>4</th>\n",
       "      <td>600004</td>\n",
       "      <td>0.105016</td>\n",
       "    </tr>\n",
       "  </tbody>\n",
       "</table>\n",
       "</div>"
      ],
      "text/plain": [
       "       id    target\n",
       "0  600000  0.119019\n",
       "1  600001  0.291614\n",
       "2  600002  0.172049\n",
       "3  600003  0.170678\n",
       "4  600004  0.105016"
      ]
     },
     "execution_count": 40,
     "metadata": {},
     "output_type": "execute_result"
    }
   ],
   "source": [
    "submission['target'] = cat_test_predictions\n",
    "submission.to_csv('submission.csv', index=False)\n",
    "submission.head()"
   ]
  },
  {
   "cell_type": "code",
   "execution_count": null,
   "metadata": {},
   "outputs": [],
   "source": []
  }
 ],
 "metadata": {
  "kernelspec": {
   "display_name": "Python 3",
   "language": "python",
   "name": "python3"
  },
  "language_info": {
   "codemirror_mode": {
    "name": "ipython",
    "version": 3
   },
   "file_extension": ".py",
   "mimetype": "text/x-python",
   "name": "python",
   "nbconvert_exporter": "python",
   "pygments_lexer": "ipython3",
   "version": "3.6.6"
  }
 },
 "nbformat": 4,
 "nbformat_minor": 4
}
